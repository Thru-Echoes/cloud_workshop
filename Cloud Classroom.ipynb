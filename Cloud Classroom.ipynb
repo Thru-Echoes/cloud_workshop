{
 "cells": [
  {
   "cell_type": "markdown",
   "metadata": {},
   "source": [
    "# Cloud Classroom\n",
    "\n",
    "This tutorial will show you a few methods of deploying a workshop/teaching environment for students to use.\n",
    "\n",
    "In these examples, I will use QB3's Python for Bioinformatics Bootcamp. This is a one week tutorial on Python for complete novices held twice yearly on Berkeley campus for around 50 students from the greater Bay Area. Every year getting the students to install Python and Jupyter before the bootcamp is a hassle, and the first class is always slow and difficult as students run into errors and require help running the tutorial notebooks.\n",
    "\n",
    "By hosting these course materials in a reproducable environment in the cloud, students are able to begin working with no install, directly through their browser. This can flip the workshop model, allowing instructors to include installation instructions at the end of the workshop, after students have become familiar with the tools and learned their utility.\n",
    "\n",
    "## MyBinder.org\n",
    "\n",
    "MyBinder.org is a free cloud service that allows anybody to host a collection of Jupyter notebooks. Jupyter notebooks can include Markdown text interleaved with executable code, making them a great tool for teaching and sharing computational analysis. MyBinder.org allows you to publish your notebooks together with the software dependencies they are running on top of, so that students can run and interact with the notebooks through their browser as if it were a web-page.\n",
    "\n",
    "Under the hood, MyBinder.org is a public implementation of BinderHub. You publish your notebooks in a GitHub repository, along with a few files listing the dependencies and requirements of your notebooks, and provide a link to your repository to MyBinder. MyBinder then builds a Docker container out of your repository, and gives you a link to access it. When someone follows the link MyBinder runs the Docker container, which runs Jupyter Notebook and configures the notebook to be accessible via web protocols, and redirects the browser to this new server. What looks like any other web-page to the user is this notebook running within Docker on the MyBinder server.\n",
    "\n",
    "### 1. Make your course content.\n",
    "\n",
    "On your local machine, write up your workshop/tutorial/class as Jupyter notebooks. Make sure to note which software and packages you are utilizing, and keep track of any sample data you will include.\n",
    "\n",
    "### 2. Create a GitHub repository.\n",
    "\n",
    "On Github.com, create a new repository. Make sure it is Public.\n",
    "\n",
    "![creating a new repo on GitHub](https://github.com/channsoden/cloud_workshop/raw/master/images/new_repo.png \"Creating a new repo on GitHub\")\n",
    "![creating a new repo on GitHub](https://github.com/channsoden/cloud_workshop/raw/master/images/create_new_repo.png \"Creating a new repo on GitHub\")\n",
    "\n",
    "Then, within your workshop directory:\n",
    "```bash\n",
    "echo \"# Python Bootcamp\" >> README.md\n",
    "git init\n",
    "git add README.md\n",
    "git commit -m \"first commit\"\n",
    "git remote add origin git@github.com:channsoden/Python_Bootcamp.git\n",
    "git push -u origin master\n",
    "```\n",
    "\n",
    "Now add all your course files to the repo:\n",
    "```bash\n",
    "git add ./*\n",
    "git commit -m \"upload course files\"\n",
    "git push origin master\n",
    "```\n"
   ]
  },
  {
   "cell_type": "code",
   "execution_count": null,
   "metadata": {},
   "outputs": [],
   "source": []
  }
 ],
 "metadata": {
  "kernelspec": {
   "display_name": "Python 3",
   "language": "python",
   "name": "python3"
  },
  "language_info": {
   "codemirror_mode": {
    "name": "ipython",
    "version": 3
   },
   "file_extension": ".py",
   "mimetype": "text/x-python",
   "name": "python",
   "nbconvert_exporter": "python",
   "pygments_lexer": "ipython3",
   "version": "3.6.4"
  }
 },
 "nbformat": 4,
 "nbformat_minor": 2
}
